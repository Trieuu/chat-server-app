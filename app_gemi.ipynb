{
 "cells": [
  {
   "cell_type": "code",
   "execution_count": null,
   "id": "1f4db8fa",
   "metadata": {},
   "outputs": [
    {
     "name": "stdout",
     "output_type": "stream",
     "text": [
      "Similarity between 'What is the meaning of life?' and 'What is the purpose of existence?': 0.9417\n",
      "Similarity between 'What is the meaning of life?' and 'How do I bake a cake?': 0.7676\n",
      "Similarity between 'What is the purpose of existence?' and 'How do I bake a cake?': 0.7471\n"
     ]
    }
   ],
   "source": [
    "from google import genai\n",
    "from google.genai import types\n",
    "import numpy as np\n",
    "from sklearn.metrics.pairwise import cosine_similarity\n",
    "\n",
    "client = genai.Client(api_key='API_KEY_HERE')\n",
    "\n",
    "texts = [\n",
    "    \"What is the meaning of life?\",\n",
    "    \"What is the purpose of existence?\",\n",
    "    \"How do I bake a cake?\"]\n",
    "\n",
    "result = [\n",
    "    np.array(e.values) for e in client.models.embed_content(\n",
    "        model=\"gemini-embedding-001\",\n",
    "        contents=texts,\n",
    "        config=types.EmbedContentConfig(task_type=\"SEMANTIC_SIMILARITY\")).embeddings\n",
    "]\n",
    "\n",
    "# Calculate cosine similarity. Higher scores = greater semantic similarity.\n",
    "\n",
    "embeddings_matrix = np.array(result)\n",
    "similarity_matrix = cosine_similarity(embeddings_matrix)\n",
    "\n",
    "for i, text1 in enumerate(texts):\n",
    "    for j in range(i + 1, len(texts)):\n",
    "        text2 = texts[j]\n",
    "        similarity = similarity_matrix[i, j]\n",
    "        print(f\"Similarity between '{text1}' and '{text2}': {similarity:.4f}\")"
   ]
  },
  {
   "cell_type": "code",
   "execution_count": 13,
   "id": "9a22b9fa",
   "metadata": {},
   "outputs": [],
   "source": [
    "EMBEDDING_MODEL = \"gemini-embedding-001\""
   ]
  },
  {
   "cell_type": "code",
   "execution_count": 14,
   "id": "2d1a9f6a",
   "metadata": {},
   "outputs": [],
   "source": [
    "import json\n",
    "\n",
    "with open(\"shop_data.json\", \"r\", encoding=\"utf-8\") as f:\n",
    "    products = json.load(f)\n",
    "    \n",
    "products = products['products']"
   ]
  },
  {
   "cell_type": "code",
   "execution_count": 47,
   "id": "96604f6b",
   "metadata": {},
   "outputs": [],
   "source": [
    "def build_embedding_text(p: dict) -> str:\n",
    "    # Lấy danh sách options nếu có\n",
    "    options = p.get('flower_details', {}).get('options', [])\n",
    "    \n",
    "    if options:\n",
    "        prices = [opt.get('price') for opt in options if isinstance(opt.get('price'), (int, float))]\n",
    "        if prices:\n",
    "            min_price = min(prices)\n",
    "            max_price = max(prices)\n",
    "            price_text = f\"Price range: from {min_price} to {max_price} (optional).\"\n",
    "        else:\n",
    "            price_text = \"\"\n",
    "    else:\n",
    "        price_text = \"\"\n",
    "\n",
    "    # Tạo mô tả embedding\n",
    "    return f\"\"\"\n",
    "ID: {p['product_id']}\n",
    "Name: {p['name']}\n",
    "Description: {p.get('description', '')}\n",
    "Type: {p.get('flower_details', {}).get('flower_type', '')}\n",
    "Color: {', '.join(p.get('flower_details', {}).get('color', []))}\n",
    "Occasion: {', '.join(p.get('flower_details', {}).get('occasion', []))}\n",
    "Options: {p.get('flower_details', {}).get('options', [])}\n",
    "{price_text}\n",
    "\"\"\".strip()\n"
   ]
  },
  {
   "cell_type": "code",
   "execution_count": 48,
   "id": "6b845fe3",
   "metadata": {},
   "outputs": [],
   "source": [
    "# Chọn text để encode (tùy chỉnh theo nhu cầu)\n",
    "texts = [\n",
    "    build_embedding_text(p) for p in products\n",
    "]"
   ]
  },
  {
   "cell_type": "code",
   "execution_count": 49,
   "id": "261fbf9c",
   "metadata": {},
   "outputs": [
    {
     "data": {
      "text/plain": [
       "[\"ID: B1\\nName: Red Rose Bouquet\\nDescription: A luxurious bouquet of fresh red roses, hand-tied with lush green foliage. Perfect for weddings, anniversaries, or romantic gestures, these premium roses convey love, passion, and elegance. Each stem is carefully selected for vibrant color, long-lasting freshness, and soft velvety petals.\\nType: Roses\\nColor: Pink Flowers\\nOccasion: Wedding\\nOptions: [{'name': 'original', 'price': 19.99, 'stems': 5, 'stock': 3}, {'name': 'deluxe', 'price': 29.99, 'stems': 10, 'stock': 0}, {'name': 'grand', 'price': 39.99, 'stems': 15, 'stock': 0}]\\nPrice range: from 19.99 to 39.99 (optional).\",\n",
       " \"ID: B2\\nName: Farmer's Choice Peonies\\nDescription: A charming assortment of seasonal peonies sourced directly from local farmers. Featuring large, fragrant blooms in soft white shades, these flowers symbolize prosperity, good fortune, and honor. Ideal for celebrations, thank-you gifts, or welcoming a new baby, each bouquet is artfully arranged for maximum freshness and beauty.\\nType: Peonies\\nColor: White Flowers\\nOccasion: New Baby, Thank you\\nOptions: [{'name': 'original', 'price': 21.99, 'stems': 5, 'stock': 0}, {'name': 'deluxe', 'price': 29.99, 'stems': 10, 'stock': 5}, {'name': 'grand', 'price': 39.99, 'stems': 15, 'stock': 4}]\\nPrice range: from 21.99 to 39.99 (optional).\",\n",
       " \"ID: B3\\nName: Peony Bouquet\\nDescription: A delightful bouquet of fresh pink peonies, renowned for their lush, ruffled petals and sweet fragrance. These elegant blooms are a symbol of romance, good luck, and happy life. Ideal for weddings, graduations, or special celebrations, each bouquet is arranged with care to create a vibrant, luxurious display.\\nType: Peonies\\nColor: Pink Flowers\\nOccasion: Wedding, Graduation\\nOptions: [{'name': 'original', 'price': 19.99, 'stems': 5}, {'name': 'deluxe', 'price': 29.99, 'stems': 10}, {'name': 'grand', 'price': 39.99, 'stems': 15}]\\nPrice range: from 19.99 to 39.99 (optional).\",\n",
       " 'ID: V1\\nName: Montecito Vase\\nDescription: A sleek and modern glass vase with a timeless cylindrical design. Perfect for showcasing medium to large floral arrangements, this vase enhances the beauty of any bouquet while adding a touch of sophistication to your home décor.\\nType: \\nColor: \\nOccasion: \\nOptions: []',\n",
       " 'ID: V2\\nName: Montecitoss Vase\\nDescription: A tall, elegant vase with a contemporary silhouette and premium finish. Designed to complement both classic and modern interiors, it’s ideal for displaying long-stemmed flowers or as a standalone statement piece.\\nType: \\nColor: \\nOccasion: \\nOptions: []',\n",
       " \"ID: B4\\nName: Sunflower Brights\\nDescription: Cheerful sunflowers with bold golden petals and dark centers. Symbol of positivity, luck, and summer energy; great for birthdays, congratulations, and home décor. Long vase life and eye‑catching color make this bouquet perfect for sunny celebrations.\\nType: Sunflowers\\nColor: Yellow Flowers\\nOccasion: Summer Solstice, International Friendship Day, Mid-Year Sales\\nOptions: [{'name': 'original', 'price': 15.99, 'stems': 3, 'stock': 8}, {'name': 'deluxe', 'price': 25.99, 'stems': 6, 'stock': 5}, {'name': 'grand', 'price': 35.99, 'stems': 9, 'stock': 2}]\\nPrice range: from 15.99 to 35.99 (optional).\",\n",
       " \"ID: B5\\nName: Rainbow Tulip Mix\\nDescription: Mixed-color tulips arranged in a clean, modern style. Smooth cup-shaped blooms in red, pink, yellow, and white. Ideal for Valentine's Day and Easter gifting; fresh, optimistic, and minimal fragrance.\\nType: Tulips\\nColor: Mixed Colors\\nOccasion: Valentine's Day, Easter\\nOptions: [{'name': 'original', 'price': 22.5, 'stems': 7, 'stock': 6}, {'name': 'deluxe', 'price': 32.0, 'stems': 12, 'stock': 4}, {'name': 'grand', 'price': 44.0, 'stems': 18, 'stock': 2}]\\nPrice range: from 22.5 to 44.0 (optional).\",\n",
       " \"ID: B6\\nName: White Lily Tribute\\nDescription: Elegant white lilies with broad, star-shaped petals and a gentle aroma. A classic expression of appreciation and respect—suited for Mother's Day and teachers—bringing purity and calm to any room.\\nType: Lilies\\nColor: White Flowers\\nOccasion: Mother's Day, Easter, Vietnamese Teacher's Day\\nOptions: [{'name': 'original', 'price': 27.0, 'stems': 5, 'stock': 6}, {'name': 'deluxe', 'price': 38.0, 'stems': 9, 'stock': 6}, {'name': 'grand', 'price': 52.0, 'stems': 14, 'stock': 6}]\\nPrice range: from 27.0 to 52.0 (optional).\",\n",
       " \"ID: B7\\nName: Orchid Elegance\\nDescription: Premium phalaenopsis orchids with arching stems and long-lasting blooms. A refined gift that conveys admiration and success; perfect for International Women's Day and Vietnamese Women's Day.\\nType: Orchids\\nColor: Purple Flowers\\nOccasion: International Women's Day, Vietnamese Women's Day\\nOptions: [{'name': 'original', 'price': 35.0, 'stems': 1, 'stock': 5}, {'name': 'deluxe', 'price': 55.0, 'stems': 2, 'stock': 3}, {'name': 'grand', 'price': 79.0, 'stems': 3, 'stock': 2}]\\nPrice range: from 35.0 to 79.0 (optional).\",\n",
       " \"ID: B8\\nName: Chrysanthemum Harvest\\nDescription: Full, cushiony chrysanthemums in warm autumn tones. A festive bouquet associated with family gatherings and seasonal festivals—ideal for Mid‑Autumn, Children's Festival, and Thanksgiving tables.\\nType: Chrysanthemums\\nColor: Orange Flowers\\nOccasion: Mid-Autumn Festival, Tet Trung Thu (Children's Festival), Thanksgiving\\nOptions: [{'name': 'original', 'price': 19.5, 'stems': 6, 'stock': 12}, {'name': 'deluxe', 'price': 28.0, 'stems': 10, 'stock': 8}, {'name': 'grand', 'price': 37.0, 'stems': 14, 'stock': 5}]\\nPrice range: from 19.5 to 37.0 (optional).\",\n",
       " \"ID: B9\\nName: Marigold & Gerbera Glow\\nDescription: Vivid marigolds and gerberas in fiery oranges and golds. Energetic and festive—great for Halloween décor, spring parades, and public holidays. Brightens offices and storefronts instantly.\\nType: Marigolds\\nColor: Orange Flowers, Yellow Flowers\\nOccasion: Halloween, Reunification Day, Labor Day, Earth Day, Oktoberfest\\nOptions: [{'name': 'original', 'price': 18.99, 'stems': 6, 'stock': 10}, {'name': 'deluxe', 'price': 27.99, 'stems': 10, 'stock': 7}, {'name': 'grand', 'price': 36.99, 'stems': 14, 'stock': 5}]\\nPrice range: from 18.99 to 36.99 (optional).\",\n",
       " \"ID: B10\\nName: Poinsettia Holiday Set\\nDescription: Classic red poinsettias with rich, velvety bracts and deep green foliage. Seasonal favorite for Christmas décor; excellent centerpiece for Winter Solstice gatherings and Boxing Day brunches.\\nType: Poinsettias\\nColor: Red Flowers\\nOccasion: Christmas, Winter Solstice, Boxing Day\\nOptions: [{'name': 'original', 'price': 23.0, 'stems': 1, 'stock': 15}, {'name': 'deluxe', 'price': 34.0, 'stems': 2, 'stock': 10}, {'name': 'grand', 'price': 46.0, 'stems': 3, 'stock': 5}]\\nPrice range: from 23.0 to 46.0 (optional).\",\n",
       " \"ID: B11\\nName: Camellia Lunar Bloom\\nDescription: Silky camellias with layered petals and glossy leaves. Auspicious for the new year—symbolizing prosperity and elegance—suited for Lunar New Year and Chinese New Year gifting.\\nType: Camellias\\nColor: Pink Flowers, Red Flowers\\nOccasion: Lunar New Year (Tết), Chinese New Year\\nOptions: [{'name': 'original', 'price': 28.5, 'stems': 5, 'stock': 6}, {'name': 'deluxe', 'price': 39.0, 'stems': 9, 'stock': 6}, {'name': 'grand', 'price': 54.0, 'stems': 14, 'stock': 4}]\\nPrice range: from 28.5 to 54.0 (optional).\",\n",
       " \"ID: B12\\nName: Lotus Serenity\\nDescription: Sacred lotus blossoms with serene petals and a fresh, clean scent. A cultural icon symbolizing purity and renewal—ideal for Vietnam National Day, Hung Kings Day, and Friendship Day gestures.\\nType: Lotus\\nColor: Pink Flowers, White Flowers\\nOccasion: Vietnam National Day, Hung Kings Commemoration Day, International Friendship Day\\nOptions: [{'name': 'original', 'price': 32.0, 'stems': 5, 'stock': 4}, {'name': 'deluxe', 'price': 46.0, 'stems': 9, 'stock': 5}, {'name': 'grand', 'price': 62.0, 'stems': 14, 'stock': 3}]\\nPrice range: from 32.0 to 62.0 (optional).\",\n",
       " \"ID: B13\\nName: Daisy Sunshine\\nDescription: Fresh white daisies with sunny centers for a clean, cheerful look. Easy to style for Father's Day picnics and summertime parties; light fragrance and long vase life.\\nType: Daisies\\nColor: White Flowers, Yellow Flowers\\nOccasion: Father's Day, Summer Solstice\\nOptions: [{'name': 'original', 'price': 16.75, 'stems': 8, 'stock': 14}, {'name': 'deluxe', 'price': 24.0, 'stems': 12, 'stock': 9}, {'name': 'grand', 'price': 31.5, 'stems': 18, 'stock': 5}]\\nPrice range: from 16.75 to 31.5 (optional).\",\n",
       " \"ID: B14\\nName: Lavender Calm Bouquet\\nDescription: Fragrant lavender bundles paired with soft greenery. Calming, rustic style suited for eco‑themed events and early‑summer promotions; naturally aromatic with relaxing notes.\\nType: Lavender\\nColor: Purple Flowers\\nOccasion: World Environment Day, Mid-Year Sales\\nOptions: [{'name': 'original', 'price': 21.25, 'stems': 8, 'stock': 12}, {'name': 'deluxe', 'price': 29.75, 'stems': 12, 'stock': 9}, {'name': 'grand', 'price': 39.0, 'stems': 18, 'stock': 5}]\\nPrice range: from 21.25 to 39.0 (optional).\",\n",
       " \"ID: B15\\nName: Baby's Breath Cloud\\nDescription: Airy baby's breath arranged as a light, cloudlike bouquet or filler. Minimalist aesthetic that photographs beautifully—great for New Year parties and November online shopping events.\\nType: Baby's Breath\\nColor: White Flowers\\nOccasion: New Year, Singles' Day, Black Friday, Cyber Monday\\nOptions: [{'name': 'original', 'price': 14.9, 'stems': 12, 'stock': 20}, {'name': 'deluxe', 'price': 22.0, 'stems': 20, 'stock': 12}, {'name': 'grand', 'price': 29.0, 'stems': 28, 'stock': 8}]\\nPrice range: from 14.9 to 29.0 (optional).\"]"
      ]
     },
     "execution_count": 49,
     "metadata": {},
     "output_type": "execute_result"
    }
   ],
   "source": [
    "texts"
   ]
  },
  {
   "cell_type": "code",
   "execution_count": 50,
   "id": "57bc1cbb",
   "metadata": {},
   "outputs": [],
   "source": [
    "def embed_texts_google(texts, batch_size=1):\n",
    "    all_vecs = []\n",
    "    for i in range(0, len(texts), batch_size):\n",
    "        chunk = texts[i:i+batch_size]\n",
    "        resp = client.models.embed_content(\n",
    "            model=EMBEDDING_MODEL,\n",
    "            contents=chunk,\n",
    "            config=types.EmbedContentConfig(task_type=\"SEMANTIC_SIMILARITY\"),\n",
    "        )\n",
    "        vecs = [np.array(e.values, dtype=np.float32) for e in resp.embeddings]\n",
    "        all_vecs.extend(vecs)\n",
    "    mat = np.vstack(all_vecs)\n",
    "    # L2-normalize for fast cosine similarity\n",
    "    mat /= (np.linalg.norm(mat, axis=1, keepdims=True) + 1e-12)\n",
    "    return mat"
   ]
  },
  {
   "cell_type": "code",
   "execution_count": 51,
   "id": "0ac1ba9d",
   "metadata": {},
   "outputs": [],
   "source": [
    "EMB_CACHE = \"product_embeddings.npy\""
   ]
  },
  {
   "cell_type": "code",
   "execution_count": 52,
   "id": "c39b00fb",
   "metadata": {},
   "outputs": [],
   "source": [
    "import os"
   ]
  },
  {
   "cell_type": "code",
   "execution_count": 53,
   "id": "679fdbb4",
   "metadata": {},
   "outputs": [],
   "source": [
    "if os.path.exists(EMB_CACHE):\n",
    "    product_embs = np.load(EMB_CACHE)\n",
    "else:\n",
    "    product_embs = embed_texts_google(texts)\n",
    "    np.save(EMB_CACHE, product_embs)"
   ]
  },
  {
   "cell_type": "code",
   "execution_count": 67,
   "id": "39eef568",
   "metadata": {},
   "outputs": [],
   "source": [
    "# ----- 4) Semantic search over products -----\n",
    "def semantic_search(query: str, top_k: int = 3):\n",
    "    # embed query\n",
    "    q_resp = client.models.embed_content(\n",
    "        model=EMBEDDING_MODEL,\n",
    "        contents=[query],\n",
    "        config=types.EmbedContentConfig(task_type=\"SEMANTIC_SIMILARITY\"),\n",
    "    )\n",
    "    q = np.array(q_resp.embeddings[0].values, dtype=np.float32)\n",
    "    q /= (np.linalg.norm(q) + 1e-12)\n",
    "\n",
    "    sims = cosine_similarity(q.reshape(1, -1), product_embs)[0]  # shape (N,)\n",
    "    idx = np.argsort(-sims)[:top_k]\n",
    "    indices = [texts[i].splitlines()[0].split()[1] for i in idx]\n",
    "    return [product for product in products if product.get('product_id','') in indices]"
   ]
  },
  {
   "cell_type": "code",
   "execution_count": 68,
   "id": "8c9a5b23",
   "metadata": {},
   "outputs": [],
   "source": [
    "question = \"Please give me the price of the Rose with grand version\""
   ]
  },
  {
   "cell_type": "code",
   "execution_count": 69,
   "id": "a37ef354",
   "metadata": {},
   "outputs": [
    {
     "data": {
      "text/plain": [
       "[{'product_id': 'B1',\n",
       "  'type': 'flower',\n",
       "  'name': 'Red Rose Bouquet',\n",
       "  'price': 19.99,\n",
       "  'stock': 12,\n",
       "  'available': True,\n",
       "  'description': 'A luxurious bouquet of fresh red roses, hand-tied with lush green foliage. Perfect for weddings, anniversaries, or romantic gestures, these premium roses convey love, passion, and elegance. Each stem is carefully selected for vibrant color, long-lasting freshness, and soft velvety petals.',\n",
       "  'image_url': ['/src/assets/demo_1.png',\n",
       "   '/src/assets/demo.png',\n",
       "   '/src/assets/demo_2.png',\n",
       "   '/src/assets/demo_3.png'],\n",
       "  'flower_details': {'occasion': ['Wedding'],\n",
       "   'color': ['Pink Flowers'],\n",
       "   'flower_type': 'Roses',\n",
       "   'options': [{'name': 'original', 'price': 19.99, 'stems': 5, 'stock': 3},\n",
       "    {'name': 'deluxe', 'price': 29.99, 'stems': 10, 'stock': 0},\n",
       "    {'name': 'grand', 'price': 39.99, 'stems': 15, 'stock': 0}]}},\n",
       " {'product_id': 'B3',\n",
       "  'type': 'flower',\n",
       "  'name': 'Peony Bouquet',\n",
       "  'price': 40,\n",
       "  'stock': 18,\n",
       "  'available': True,\n",
       "  'description': 'A delightful bouquet of fresh pink peonies, renowned for their lush, ruffled petals and sweet fragrance. These elegant blooms are a symbol of romance, good luck, and happy life. Ideal for weddings, graduations, or special celebrations, each bouquet is arranged with care to create a vibrant, luxurious display.',\n",
       "  'image_url': ['/src/assets/demo_5.png'],\n",
       "  'flower_details': {'occasion': ['Wedding', 'Graduation'],\n",
       "   'color': ['Pink Flowers'],\n",
       "   'flower_type': 'Peonies',\n",
       "   'options': [{'name': 'original', 'price': 19.99, 'stems': 5},\n",
       "    {'name': 'deluxe', 'price': 29.99, 'stems': 10},\n",
       "    {'name': 'grand', 'price': 39.99, 'stems': 15}]}},\n",
       " {'product_id': 'B11',\n",
       "  'type': 'flower',\n",
       "  'name': 'Camellia Lunar Bloom',\n",
       "  'price': 28.5,\n",
       "  'stock': 16,\n",
       "  'available': True,\n",
       "  'description': 'Silky camellias with layered petals and glossy leaves. Auspicious for the new year—symbolizing prosperity and elegance—suited for Lunar New Year and Chinese New Year gifting.',\n",
       "  'image_url': ['/src/assets/camellia_1.png'],\n",
       "  'flower_details': {'occasion': ['Lunar New Year (Tết)', 'Chinese New Year'],\n",
       "   'color': ['Pink Flowers', 'Red Flowers'],\n",
       "   'flower_type': 'Camellias',\n",
       "   'options': [{'name': 'original', 'price': 28.5, 'stems': 5, 'stock': 6},\n",
       "    {'name': 'deluxe', 'price': 39.0, 'stems': 9, 'stock': 6},\n",
       "    {'name': 'grand', 'price': 54.0, 'stems': 14, 'stock': 4}]}}]"
      ]
     },
     "execution_count": 69,
     "metadata": {},
     "output_type": "execute_result"
    }
   ],
   "source": [
    "semantic_search(question, top_k=3)"
   ]
  },
  {
   "cell_type": "code",
   "execution_count": null,
   "id": "bc31fcd8",
   "metadata": {},
   "outputs": [],
   "source": [
    "def user_prompt_handler(user_message: str, k: int = 3) -> str:\n",
    "    # Get relevant products\n",
    "    retrieved_products = semantic_search(user_message, k)\n",
    "\n",
    "    def normalize_product(p: dict):\n",
    "        \"\"\"Normalize both flower and vase products into a clean context.\"\"\"\n",
    "        if p.get(\"type\") == \"vase\":\n",
    "            return {\n",
    "                \"id\": p.get(\"product_id\"),\n",
    "                \"type\": \"vase\",\n",
    "                \"name\": p.get(\"name\"),\n",
    "                \"description\": p.get(\"description\", \"\"),\n",
    "                \"price\": p.get(\"price\"),\n",
    "                \"available\": bool(p.get(\"available\", False)),\n",
    "            }\n",
    "        else:  # assume flower by default\n",
    "            opts = []\n",
    "            for o in p.get(\"flower_details\", {}).get(\"options\", []):\n",
    "                opts.append({\n",
    "                    \"name\": o.get(\"name\"),\n",
    "                    \"price\": o.get(\"price\"),\n",
    "                    \"stems\": o.get(\"stems\"),\n",
    "                    \"available\": bool(o.get(\"stock\", 0) and o.get(\"stock\", 0) > 0),\n",
    "                })\n",
    "            return {\n",
    "                \"id\": p.get(\"product_id\"),\n",
    "                \"type\": \"flower\",\n",
    "                \"name\": p.get(\"name\"),\n",
    "                \"description\": p.get(\"description\", \"\"),\n",
    "                \"flower_type\": p.get(\"flower_details\", {}).get(\"flower_type\", \"\"),\n",
    "                \"color\": p.get(\"flower_details\", {}).get(\"color\", []),\n",
    "                \"occasion\": p.get(\"flower_details\", {}).get(\"occasion\", []),\n",
    "                \"options\": opts,\n",
    "            }\n",
    "\n",
    "    ctx_items = [normalize_product(p) for p in retrieved_products]\n",
    "    context_text = json.dumps(ctx_items, ensure_ascii=False, indent=2)\n",
    "\n",
    "    prompt = f\"\"\"\n",
    "You are a friendly assistant helping customers choose products.  \n",
    "Always start your answer with a short friendly introduction sentence before listing details.  \n",
    "Answer based strictly on the [Shop Data] below.\n",
    "\n",
    "[Shop Data]\n",
    "{context_text}\n",
    "\n",
    "[User Question]\n",
    "{user_message}\n",
    "\n",
    "[Instructions]\n",
    "1. Start every response with a friendly, natural intro (e.g., \"Here are some flowers you might like:\" or \"This vase could be a perfect match:\").\n",
    "2. Use facts ONLY from [Shop Data]. If missing, reply exactly: Data not found.\n",
    "3. Prices:\n",
    "   - Flowers: If a user asks about an option (original/deluxe/grand), provide the price if it exists.\n",
    "   - Vases: Provide the single listed price if available.\n",
    "4. Availability:\n",
    "   - You may say \"currently out of stock\" if \"available\" is false.\n",
    "   - Never mention or infer stock numbers.\n",
    "5. Alternatives:\n",
    "   - Flowers: If requested option is unavailable, suggest the nearest available tier (original ↔ deluxe ↔ grand).\n",
    "   - Vases: If not available, simply say it’s out of stock.\n",
    "6. Formatting:\n",
    "   - Be concise, friendly, and natural.\n",
    "   - List multiple products/options with \"-\" bullets.\n",
    "   - Include product and option names with their prices.\n",
    "   - Do NOT output JSON or code.\n",
    "   - Do NOT include reasoning steps.\n",
    "\n",
    "[Examples]\n",
    "Q: What's the price of the Red Rose Bouquet grand version?  \n",
    "A: Here’s what I found: The grand Red Rose Bouquet is 39.99, but it’s currently out of stock. A similar option is \"deluxe\" at 29.99.\n",
    "\n",
    "Q: Do you have purple orchids for Women's Day?  \n",
    "A: Here are some flowers that are suitable for Women’s Day:  \n",
    "- Orchid Elegance — \"original\" 35.0, \"deluxe\" 55.0, \"grand\" 79.0.\n",
    "\n",
    "Q: What’s the price of the Montecito Vase?  \n",
    "A: This vase could be a perfect match: The Montecito Vase is available at 19.\n",
    "\n",
    "Q: What if something isn’t in the data?  \n",
    "A: Data not found.\n",
    "\"\"\"\n",
    "    return prompt"
   ]
  },
  {
   "cell_type": "code",
   "execution_count": 72,
   "id": "53bbeb37",
   "metadata": {},
   "outputs": [],
   "source": [
    "import requests\n",
    "import json\n",
    "import os\n",
    "from dotenv import load_dotenv"
   ]
  },
  {
   "cell_type": "code",
   "execution_count": 73,
   "id": "29c7ae0b",
   "metadata": {},
   "outputs": [],
   "source": [
    "# Load environment variables from .env file\n",
    "load_dotenv()\n",
    "\n",
    "# Check if API key is set\n",
    "api_key = os.getenv('OPENROUTER_API_KEY_LLMA')\n",
    "if not api_key:\n",
    "    print(\"Error: OPENROUTER_API_KEY environment variable not set\")\n",
    "    exit(1)"
   ]
  },
  {
   "cell_type": "code",
   "execution_count": 74,
   "id": "0fe3da39",
   "metadata": {},
   "outputs": [],
   "source": [
    "def llm_response(user_message: str, k: int = 3):\n",
    "\n",
    "    response = requests.post(\n",
    "        url=\"https://openrouter.ai/api/v1/chat/completions\",\n",
    "        headers={\n",
    "            \"Authorization\": f\"Bearer {api_key}\",\n",
    "            \"Content-Type\": \"application/json\",\n",
    "            # \"HTTP-Referer\": \"https://your-site-url.com\",  # Optional\n",
    "            # \"X-Title\": \"Your Site Name\",  # Optional\n",
    "        },\n",
    "        data=json.dumps({\n",
    "            \"model\": \"deepseek/deepseek-r1-distill-llama-70b:free\",\n",
    "            \"messages\": [\n",
    "                {\n",
    "                    \"role\": \"user\",\n",
    "                    \"content\": f\"{user_prompt_handler(user_message, k)}\"\n",
    "                }\n",
    "            ],\n",
    "        })\n",
    "    )\n",
    "    return response"
   ]
  },
  {
   "cell_type": "code",
   "execution_count": 75,
   "id": "28fc13dd",
   "metadata": {},
   "outputs": [],
   "source": [
    "user_message_price = \"Please give me the price of the Rose with grand version\""
   ]
  },
  {
   "cell_type": "code",
   "execution_count": 81,
   "id": "a44f2af3",
   "metadata": {},
   "outputs": [],
   "source": [
    "user_message_price = 'give me some vase of the shop'"
   ]
  },
  {
   "cell_type": "code",
   "execution_count": 82,
   "id": "ac310e2d",
   "metadata": {},
   "outputs": [
    {
     "data": {
      "text/plain": [
       "[{'product_id': 'V1',\n",
       "  'type': 'vase',\n",
       "  'name': 'Montecito Vase',\n",
       "  'price': 19,\n",
       "  'stock': 12,\n",
       "  'available': True,\n",
       "  'description': 'A sleek and modern glass vase with a timeless cylindrical design. Perfect for showcasing medium to large floral arrangements, this vase enhances the beauty of any bouquet while adding a touch of sophistication to your home décor.',\n",
       "  'image_url': ['/src/assets/demo_3.png']},\n",
       " {'product_id': 'V2',\n",
       "  'type': 'vase',\n",
       "  'name': 'Montecitoss Vase',\n",
       "  'price': 40,\n",
       "  'stock': 0,\n",
       "  'available': True,\n",
       "  'description': 'A tall, elegant vase with a contemporary silhouette and premium finish. Designed to complement both classic and modern interiors, it’s ideal for displaying long-stemmed flowers or as a standalone statement piece.',\n",
       "  'image_url': ['/src/assets/demo_4.png']},\n",
       " {'product_id': 'B5',\n",
       "  'type': 'flower',\n",
       "  'name': 'Rainbow Tulip Mix',\n",
       "  'price': 22.5,\n",
       "  'stock': 20,\n",
       "  'available': True,\n",
       "  'description': \"Mixed-color tulips arranged in a clean, modern style. Smooth cup-shaped blooms in red, pink, yellow, and white. Ideal for Valentine's Day and Easter gifting; fresh, optimistic, and minimal fragrance.\",\n",
       "  'image_url': ['/src/assets/tulip_1.png'],\n",
       "  'flower_details': {'occasion': [\"Valentine's Day\", 'Easter'],\n",
       "   'color': ['Mixed Colors'],\n",
       "   'flower_type': 'Tulips',\n",
       "   'options': [{'name': 'original', 'price': 22.5, 'stems': 7, 'stock': 6},\n",
       "    {'name': 'deluxe', 'price': 32.0, 'stems': 12, 'stock': 4},\n",
       "    {'name': 'grand', 'price': 44.0, 'stems': 18, 'stock': 2}]}}]"
      ]
     },
     "execution_count": 82,
     "metadata": {},
     "output_type": "execute_result"
    }
   ],
   "source": [
    "semantic_search(user_message_price)"
   ]
  },
  {
   "cell_type": "code",
   "execution_count": 83,
   "id": "cd5b70c5",
   "metadata": {},
   "outputs": [
    {
     "data": {
      "text/plain": [
       "'\\nYou are an friendly assistant that answers user questions based strictly on the provided data.\\n\\n[Shop Data]:\\n{\"product_id\": \"V1\", \"type\": \"vase\", \"name\": \"Montecito Vase\", \"price\": 19, \"stock\": 12, \"available\": true, \"description\": \"A sleek and modern glass vase with a timeless cylindrical design. Perfect for showcasing medium to large floral arrangements, this vase enhances the beauty of any bouquet while adding a touch of sophistication to your home décor.\", \"image_url\": [\"/src/assets/demo_3.png\"]}\\n{\"product_id\": \"V2\", \"type\": \"vase\", \"name\": \"Montecitoss Vase\", \"price\": 40, \"stock\": 0, \"available\": true, \"description\": \"A tall, elegant vase with a contemporary silhouette and premium finish. Designed to complement both classic and modern interiors, it’s ideal for displaying long-stemmed flowers or as a standalone statement piece.\", \"image_url\": [\"/src/assets/demo_4.png\"]}\\n{\"product_id\": \"B5\", \"type\": \"flower\", \"name\": \"Rainbow Tulip Mix\", \"price\": 22.5, \"stock\": 20, \"available\": true, \"description\": \"Mixed-color tulips arranged in a clean, modern style. Smooth cup-shaped blooms in red, pink, yellow, and white. Ideal for Valentine\\'s Day and Easter gifting; fresh, optimistic, and minimal fragrance.\", \"image_url\": [\"/src/assets/tulip_1.png\"], \"flower_details\": {\"occasion\": [\"Valentine\\'s Day\", \"Easter\"], \"color\": [\"Mixed Colors\"], \"flower_type\": \"Tulips\", \"options\": [{\"name\": \"original\", \"price\": 22.5, \"stems\": 7, \"stock\": 6}, {\"name\": \"deluxe\", \"price\": 32.0, \"stems\": 12, \"stock\": 4}, {\"name\": \"grand\", \"price\": 44.0, \"stems\": 18, \"stock\": 2}]}}\\n\\n[User Question]:\\n\"give me some vase of the shop\"\\n\\n[Instructions]:\\n1. Only use facts and wording that appear exactly in the [Shop Data].\\n2. Do not invent or assume anything not shown in the data.\\n3. Do not add extra punctuation, currency symbols (like \"$\"), or any formatting not present in the original data (like redundancy punctuation).\\n4. If the information is not found in the [Shop Data], respond exactly with: Data not found.\\n5. Rephrase the response naturally, as if you are talking to a customer.\\n6. List product names clearly, using \\'-\\' if there are multiple items \\n7. Make SURE the products AVAILABLE in order to be printed, and make sure not to print the stock of the product.\\n8. Do NOT use JSON or code format in your response. \\n9. If the you can add some description about the products (like price, description, etc), but make sure not includ the stock\\n    '"
      ]
     },
     "execution_count": 83,
     "metadata": {},
     "output_type": "execute_result"
    }
   ],
   "source": [
    "user_prompt_handler(user_message_price, 3)"
   ]
  },
  {
   "cell_type": "code",
   "execution_count": 80,
   "id": "30db0abd",
   "metadata": {},
   "outputs": [
    {
     "name": "stdout",
     "output_type": "stream",
     "text": [
      "Response: The price of the Red Rose Bouquet grand version is 39.99.\n"
     ]
    }
   ],
   "source": [
    "response = llm_response(user_message_price)\n",
    "\n",
    "# Check response deep-seek\n",
    "if response.status_code == 200:\n",
    "    try:\n",
    "        data = response.json()\n",
    "        print(\"Response:\", data['choices'][0]['message']['content'])\n",
    "    except (KeyError, ValueError) as e:\n",
    "        print(f\"Error parsing response: {e}\")\n",
    "else:\n",
    "    print(f\"Error: {response.status_code} - {response.text}\")"
   ]
  },
  {
   "cell_type": "code",
   "execution_count": null,
   "id": "7f9d894a",
   "metadata": {},
   "outputs": [],
   "source": []
  }
 ],
 "metadata": {
  "kernelspec": {
   "display_name": "chatbot39",
   "language": "python",
   "name": "python3"
  },
  "language_info": {
   "codemirror_mode": {
    "name": "ipython",
    "version": 3
   },
   "file_extension": ".py",
   "mimetype": "text/x-python",
   "name": "python",
   "nbconvert_exporter": "python",
   "pygments_lexer": "ipython3",
   "version": "3.9.23"
  }
 },
 "nbformat": 4,
 "nbformat_minor": 5
}
